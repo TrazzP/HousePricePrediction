{
 "cells": [
  {
   "cell_type": "code",
   "execution_count": 659,
   "metadata": {},
   "outputs": [],
   "source": [
    "import pandas as pd\n",
    "import numpy as np\n",
    "import matplotlib.pyplot as plt\n",
    "import seaborn as sns\n",
    "from sklearn.preprocessing import StandardScaler\n",
    "from sklearn.model_selection import train_test_split\n",
    "from sklearn.linear_model import LinearRegression\n",
    "from sklearn.metrics import mean_squared_error"
   ]
  },
  {
   "cell_type": "code",
   "execution_count": 660,
   "metadata": {},
   "outputs": [],
   "source": [
    "path = \"train.csv\"\n",
    "df = pd.read_csv(path)"
   ]
  },
  {
   "cell_type": "code",
   "execution_count": 661,
   "metadata": {},
   "outputs": [],
   "source": [
    "# This takes the dataframe and removes bad features and then turns categorial variabels into boolean.\n",
    "def data_conditioning(dataframe):\n",
    "    dataframe.set_index(\"Id\", inplace=True)\n",
    "    categorical_columns = dataframe.select_dtypes(include=[\"object\"]).columns\n",
    "\n",
    "    for col in categorical_columns:\n",
    "        dataframe = dataframe.drop(\n",
    "            [col],\n",
    "            axis=1,\n",
    "        ).join(pd.get_dummies(df[col], prefix=f\"{col}\"))\n",
    "    dataframe.fillna(dataframe.median(), inplace=True)\n",
    "    return dataframe"
   ]
  },
  {
   "cell_type": "code",
   "execution_count": 662,
   "metadata": {},
   "outputs": [],
   "source": [
    "# Data contitions and fills with median for missing values, and then scales the data\n",
    "df = data_conditioning(dataframe=df)\n",
    "\n",
    "columns_to_drop = [\n",
    "    \"Condition2_RRAe\",\n",
    "    \"Condition2_RRAn\",\n",
    "    \"Condition2_RRNn\",\n",
    "    \"Electrical_Mix\",\n",
    "    \"Exterior1st_ImStucc\",\n",
    "    \"Exterior1st_Stone\",\n",
    "    \"Exterior2nd_Other\",\n",
    "    \"GarageQual_Ex\",\n",
    "    \"Heating_Floor\",\n",
    "    \"Heating_OthW\",\n",
    "    \"HouseStyle_2.5Fin\",\n",
    "    \"MiscFeature_TenC\",\n",
    "    \"PoolQC_Fa\",\n",
    "    \"RoofMatl_ClyTile\",\n",
    "    \"RoofMatl_Membran\",\n",
    "    \"RoofMatl_Metal\",\n",
    "    \"RoofMatl_Roll\",\n",
    "    \"Utilities_NoSeWa\",\n",
    "]\n",
    "\n",
    "df = df.drop(columns=columns_to_drop)\n",
    "\n",
    "scaler = StandardScaler()\n",
    "\n",
    "# Separate features and target variable\n",
    "X = df.drop(columns=[\"SalePrice\"], axis=1)\n",
    "y = df[\"SalePrice\"]"
   ]
  },
  {
   "cell_type": "code",
   "execution_count": 663,
   "metadata": {},
   "outputs": [],
   "source": [
    "# Correlation Matrix to choose which variables to focus on.\n",
    "correlation_matrix = df.corr()\n",
    "saleprice_correlation = (\n",
    "    correlation_matrix[\"SalePrice\"].abs().sort_values(ascending=False)\n",
    ")\n",
    "\n",
    "high_corr_vars_list = saleprice_correlation[saleprice_correlation > 0].index.tolist()\n",
    "\n",
    "# Shortens the amount of variables to the ones with highest correlation.\n",
    "high_corr_vars = df[high_corr_vars_list]\n",
    "del high_corr_vars_list[0]\n",
    "X = high_corr_vars.drop(columns=[\"SalePrice\"], axis=1)\n",
    "y = high_corr_vars[\"SalePrice\"]"
   ]
  },
  {
   "cell_type": "code",
   "execution_count": 664,
   "metadata": {},
   "outputs": [
    {
     "name": "stdout",
     "output_type": "stream",
     "text": [
      "0.9173529626699538\n",
      "-307409436.91678685\n"
     ]
    }
   ],
   "source": [
    "# Split the data into training and testing\n",
    "X_train, X_test, y_train, y_test = train_test_split(X, y, test_size=0.2, random_state=1)\n",
    "\n",
    "X_train_S = pd.DataFrame(scaler.fit_transform(X_train), columns=X_train.columns)\n",
    "X_test_S = pd.DataFrame(scaler.fit_transform(X_test), columns=X_test.columns)\n",
    "\n",
    "# Linear Regression Model\n",
    "reg = LinearRegression()\n",
    "\n",
    "reg.fit(X_train, y_train)\n",
    "\n",
    "print(reg.score(X_train, y_train))\n",
    "print(reg.score(X_test, y_test))"
   ]
  },
  {
   "cell_type": "code",
   "execution_count": 665,
   "metadata": {},
   "outputs": [
    {
     "name": "stdout",
     "output_type": "stream",
     "text": [
      "0.9061492273609174\n"
     ]
    }
   ],
   "source": [
    "from sklearn.ensemble import RandomForestRegressor\n",
    "\n",
    "forest = RandomForestRegressor()\n",
    "B_forest = None\n",
    "B_Score = 0\n",
    "\n",
    "for i in range(10):\n",
    "    X_train, X_test, y_train, y_test = train_test_split(\n",
    "        X, y, test_size=0.2, random_state=i\n",
    "    )\n",
    "\n",
    "    X_train_S = pd.DataFrame(scaler.fit_transform(X_train), columns=X_train.columns)\n",
    "    X_test_S = pd.DataFrame(scaler.fit_transform(X_test), columns=X_test.columns)\n",
    "    forest.fit(X_train_S, y_train)\n",
    "    score = forest.score(X_test_S, y_test)\n",
    "    if score > B_Score:\n",
    "        B_Score = score\n",
    "        B_forest = forest\n",
    "\n",
    "print(B_Score)"
   ]
  },
  {
   "cell_type": "code",
   "execution_count": 666,
   "metadata": {},
   "outputs": [
    {
     "name": "stdout",
     "output_type": "stream",
     "text": [
      "0.8660359417163378\n",
      "RandomForestRegressor(max_features=100, n_estimators=60)\n"
     ]
    }
   ],
   "source": [
    "from sklearn.model_selection import GridSearchCV\n",
    "\n",
    "param_grid = {\n",
    "    \"n_estimators\": [60],\n",
    "    \"max_features\": [100],\n",
    "}\n",
    "grid_search = GridSearchCV(\n",
    "    forest,\n",
    "    param_grid,\n",
    "    cv=5,\n",
    "    scoring=\"neg_root_mean_squared_log_error\",\n",
    "    return_train_score=True,\n",
    ")\n",
    "grid_search.fit(X_train_S, y_train)\n",
    "\n",
    "best_forest = grid_search.best_estimator_\n",
    "print(best_forest.score(X_test_S, y_test))\n",
    "print(best_forest)\n",
    "# Find out that the best one is the one I already have about."
   ]
  },
  {
   "cell_type": "code",
   "execution_count": 669,
   "metadata": {},
   "outputs": [],
   "source": [
    "path = \"test.csv\"\n",
    "df = pd.read_csv(path)\n",
    "df_index = df.Id\n",
    "\n",
    "df_test = data_conditioning(dataframe=df)\n",
    "\n",
    "df_test_S = pd.DataFrame(scaler.fit_transform(df_test), columns=df_test.columns)\n",
    "df_test_S = df_test_S[high_corr_vars_list]\n",
    "\n",
    "y_prediction = B_forest.predict(df_test_S)\n",
    "\n",
    "output_df = pd.DataFrame({\"Id\": df_index, \"SalePrice\": y_prediction})\n",
    "output_df.set_index(\"Id\").to_csv(\"Housing_Price_Estimates_TP.csv\")"
   ]
  },
  {
   "cell_type": "markdown",
   "metadata": {},
   "source": [
    "Ideas \n",
    "- potential for multicolinearity (too many variables look to reduce some)\n",
    "- Have missing values, better way to estimate the values of those."
   ]
  },
  {
   "cell_type": "code",
   "execution_count": 670,
   "metadata": {},
   "outputs": [
    {
     "name": "stdout",
     "output_type": "stream",
     "text": [
      "29013.30104528005\n"
     ]
    }
   ],
   "source": [
    "y_pred = B_forest.predict(X_test_S)\n",
    "\n",
    "rmse = np.sqrt(mean_squared_error(y_test, y_pred))\n",
    "print(rmse)"
   ]
  }
 ],
 "metadata": {
  "kernelspec": {
   "display_name": "Python 3",
   "language": "python",
   "name": "python3"
  },
  "language_info": {
   "codemirror_mode": {
    "name": "ipython",
    "version": 3
   },
   "file_extension": ".py",
   "mimetype": "text/x-python",
   "name": "python",
   "nbconvert_exporter": "python",
   "pygments_lexer": "ipython3",
   "version": "3.10.6"
  }
 },
 "nbformat": 4,
 "nbformat_minor": 2
}
